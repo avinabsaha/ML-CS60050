{
 "cells": [
  {
   "cell_type": "code",
   "execution_count": 36,
   "metadata": {},
   "outputs": [],
   "source": [
    "import numpy as np\n",
    "from sklearn.model_selection import train_test_split\n",
    "from sklearn.multiclass import OneVsRestClassifier\n",
    "from sklearn.metrics import classification_report"
   ]
  },
  {
   "cell_type": "code",
   "execution_count": 37,
   "metadata": {},
   "outputs": [],
   "source": [
    "# Reading number of Data Points\n",
    "with open('PhishingData.arff') as file:\n",
    "    line_count=0\n",
    "    for line in file:    \n",
    "        line_count = line_count+1\n",
    "file.close()\n",
    "# Defining Data Matrix\n",
    "w1 = 9\n",
    "w2 = 1\n",
    "h = line_count\n",
    "Data = np.zeros(shape=(h,w1))\n",
    "Label = np.zeros(h)\n",
    "length_of_training_set = h\n",
    "# Reading the Data Provided\n",
    "with open('PhishingData.arff') as file:\n",
    "    line_count=0\n",
    "    for line in file:\n",
    "        line = line.strip()\n",
    "        line = line.split(',')\n",
    "        for i in range(10):\n",
    "            if i<9:\n",
    "                Data[line_count][i] = int(line[i])\n",
    "            else:\n",
    "                Label[line_count] = int(line[i])\n",
    "    \n",
    "        line_count = line_count+1\n",
    "file.close()"
   ]
  },
  {
   "cell_type": "code",
   "execution_count": 38,
   "metadata": {},
   "outputs": [
    {
     "name": "stdout",
     "output_type": "stream",
     "text": [
      "Total Instances: 1353\n",
      "Instances in training set: 1082\n",
      "Instances in in test set: 271\n",
      "Instances with legitimate label in dataset: 40.50%\n",
      "Instances with suspicious label in dataset: 7.61%\n",
      "Instances with phishing label in dataset: 51.88%\n",
      "Instances with legitimate label in Training set: 40.11%\n",
      "Instances with suspicious label in Training set: 7.21%\n",
      "Instances with phishing label in Training set: 52.68%\n",
      "Instances with legitimate label in Test set: 42.07%\n",
      "Instances with suspicious label in Test set: 9.23%\n",
      "Instances with phishing label in Test set: 48.71%\n"
     ]
    }
   ],
   "source": [
    "# Split into Train - Test Set By Stratified Sampling\n",
    "# Label 1 Legitimate Label 0  Suspicious Label -1 Phishing\n",
    "X_train, X_test, y_train, y_test = train_test_split(Data, Label, test_size=0.20, random_state=42)\n",
    "#print(X_train.shape)\n",
    "#print(X_test.shape)\n",
    "print(\"Total Instances: {}\".format(Label.shape[0]))\n",
    "print(\"Instances in training set: {}\".format(y_train.shape[0]))\n",
    "print(\"Instances in test set: {}\".format(y_test.shape[0]))\n",
    "print(\"Instances with legitimate label in dataset: {0:.2f}%\".format(100*np.sum(Label==1)/float(Label.shape[0])))\n",
    "print(\"Instances with suspicious label in dataset: {0:.2f}%\".format(100*np.sum(Label==0)/float(Label.shape[0])))\n",
    "print(\"Instances with phishing label in dataset: {0:.2f}%\".format(100*np.sum(Label==-1)/float(Label.shape[0])))\n",
    "print(\"Instances with legitimate label in Training set: {0:.2f}%\".format(100*np.sum(y_train==1)/float(y_train.shape[0])))\n",
    "print(\"Instances with suspicious label in Training set: {0:.2f}%\".format(100*np.sum(y_train==0)/float(y_train.shape[0])))\n",
    "print(\"Instances with phishing label in Training set: {0:.2f}%\".format(100*np.sum(y_train==-1)/float(y_train.shape[0])))\n",
    "print(\"Instances with legitimate label in Test set: {0:.2f}%\".format(100*np.sum(y_test==1)/float(y_test.shape[0])))\n",
    "print(\"Instances with suspicious label in Test set: {0:.2f}%\".format(100*np.sum(y_test==0)/float(y_test.shape[0])))\n",
    "print(\"Instances with phishing label in Test set: {0:.2f}%\".format(100*np.sum(y_test==-1)/float(y_test.shape[0])))\n"
   ]
  },
  {
   "cell_type": "code",
   "execution_count": 39,
   "metadata": {},
   "outputs": [
    {
     "name": "stdout",
     "output_type": "stream",
     "text": [
      "Feature name:SFH Importance: 0.34902520214\n",
      "Feature name:popUpWindow Importance: 0.135208176232\n",
      "Feature name:SSLfinal_State Importance: 0.155189866791\n",
      "Feature name:Request_URL Importance: 0.103296064961\n",
      "Feature name:URL_of_Anchor Importance: 0.0866638860434\n",
      "Feature name:web_traffic Importance: 0.0554632909742\n",
      "Feature name:URL_Length Importance: 0.0734836632224\n",
      "Feature name:age_of_domain Importance: 0.0284676424654\n",
      "Feature name:having_IP_Address Importance: 0.0132022071706\n"
     ]
    }
   ],
   "source": [
    "from sklearn.ensemble import RandomForestClassifier\n",
    "model = RandomForestClassifier(n_estimators=100,max_depth=10,random_state=41)\n",
    "model.fit(X_train,y_train)\n",
    "features = ['SFH', 'popUpWindow', 'SSLfinal_State', 'Request_URL', 'URL_of_Anchor','web_traffic', 'URL_Length', \n",
    "            'age_of_domain', 'having_IP_Address']\n",
    "for i in range(9):\n",
    "    print(\"Feature name:{} Importance: {}\".format(features[i],model.feature_importances_[i]))"
   ]
  },
  {
   "cell_type": "code",
   "execution_count": 46,
   "metadata": {},
   "outputs": [
    {
     "name": "stdout",
     "output_type": "stream",
     "text": [
      "Training Accuracy:96.77%\n",
      "Test Accuracy:87.82%\n",
      "             precision    recall  f1-score   support\n",
      "\n",
      "   class -1       0.89      0.90      0.90       132\n",
      "    class 0       0.83      0.76      0.79        25\n",
      "    class 1       0.87      0.88      0.87       114\n",
      "\n",
      "avg / total       0.88      0.88      0.88       271\n",
      "\n"
     ]
    }
   ],
   "source": [
    "# We Try different classifiers and compare their accuracies\n",
    "\n",
    "# Classifier 1 Random Forest\n",
    "from sklearn.ensemble import RandomForestClassifier\n",
    "\n",
    "model = OneVsRestClassifier(RandomForestClassifier(n_estimators=100,max_depth=10,random_state=41))\n",
    "model.fit(X_train,y_train)\n",
    "print(\"Training Accuracy:{0:.2f}%\".format(100*model.score(X_train,y_train)))\n",
    "print(\"Test Accuracy:{0:.2f}%\".format(100*model.score(X_test,y_test)))\n",
    "target_names = ['class -1', 'class 0', 'class 1']\n",
    "print(classification_report(y_test, model.predict(X_test), target_names=target_names))\n"
   ]
  },
  {
   "cell_type": "code",
   "execution_count": 41,
   "metadata": {},
   "outputs": [
    {
     "name": "stdout",
     "output_type": "stream",
     "text": [
      "Training Accuracy:96.77%\n",
      "Test Accuracy:87.82%\n",
      "             precision    recall  f1-score   support\n",
      "\n",
      "   class -1       0.90      0.89      0.89       132\n",
      "    class 0       0.88      0.84      0.86        25\n",
      "    class 1       0.85      0.88      0.87       114\n",
      "\n",
      "avg / total       0.88      0.88      0.88       271\n",
      "\n"
     ]
    }
   ],
   "source": [
    "# Classifier 2 Normal Decision Trees\n",
    "\n",
    "from sklearn import tree\n",
    "\n",
    "model = OneVsRestClassifier(tree.DecisionTreeClassifier(random_state=41))\n",
    "model = model.fit(X_train, y_train)\n",
    "print(\"Training Accuracy:{0:.2f}%\".format(100*model.score(X_train,y_train)))\n",
    "print(\"Test Accuracy:{0:.2f}%\".format(100*model.score(X_test,y_test)))\n",
    "target_names = ['class -1', 'class 0', 'class 1']\n",
    "print(classification_report(y_test, model.predict(X_test), target_names=target_names))\n",
    "\n"
   ]
  },
  {
   "cell_type": "code",
   "execution_count": 42,
   "metadata": {},
   "outputs": [
    {
     "name": "stdout",
     "output_type": "stream",
     "text": [
      "Training Accuracy:93.44%\n",
      "Test Accuracy:85.61%\n",
      "             precision    recall  f1-score   support\n",
      "\n",
      "   class -1       0.89      0.89      0.89       132\n",
      "    class 0       0.71      0.60      0.65        25\n",
      "    class 1       0.85      0.88      0.86       114\n",
      "\n",
      "avg / total       0.85      0.86      0.85       271\n",
      "\n"
     ]
    }
   ],
   "source": [
    "# Classifier 3 KNN\n",
    "from sklearn.neighbors import KNeighborsClassifier\n",
    "\n",
    "\n",
    "model = OneVsRestClassifier(KNeighborsClassifier(n_neighbors=3))\n",
    "model.fit(X_train, y_train)\n",
    "print(\"Training Accuracy:{0:.2f}%\".format(100*model.score(X_train,y_train)))\n",
    "print(\"Test Accuracy:{0:.2f}%\".format(100*model.score(X_test,y_test)))\n",
    "target_names = ['class -1', 'class 0', 'class 1']\n",
    "print(classification_report(y_test, model.predict(X_test), target_names=target_names))"
   ]
  },
  {
   "cell_type": "code",
   "execution_count": 47,
   "metadata": {},
   "outputs": [
    {
     "name": "stdout",
     "output_type": "stream",
     "text": [
      "Training Accuracy:83.64%\n",
      "Test Accuracy:80.44%\n",
      "             precision    recall  f1-score   support\n",
      "\n",
      "   class -1       0.84      0.89      0.86       132\n",
      "    class 0       0.00      0.00      0.00        25\n",
      "    class 1       0.77      0.89      0.82       114\n",
      "\n",
      "avg / total       0.73      0.80      0.77       271\n",
      "\n"
     ]
    }
   ],
   "source": [
    "# Classifier 4 Gaussian Naive Bayes\n",
    "\n",
    "from sklearn.naive_bayes import GaussianNB\n",
    "model = OneVsRestClassifier(GaussianNB())\n",
    "model.fit(X_train, y_train)\n",
    "print(\"Training Accuracy:{0:.2f}%\".format(100*model.score(X_train,y_train)))\n",
    "print(\"Test Accuracy:{0:.2f}%\".format(100*model.score(X_test,y_test)))\n",
    "target_names = ['class -1', 'class 0', 'class 1']\n",
    "print(classification_report(y_test, model.predict(X_test), target_names=target_names))"
   ]
  },
  {
   "cell_type": "code",
   "execution_count": 44,
   "metadata": {},
   "outputs": [
    {
     "name": "stdout",
     "output_type": "stream",
     "text": [
      "Training Accuracy:94.92%\n",
      "Test Accuracy:87.08%\n",
      "             precision    recall  f1-score   support\n",
      "\n",
      "   class -1       0.89      0.92      0.90       132\n",
      "    class 0       0.77      0.68      0.72        25\n",
      "    class 1       0.87      0.86      0.86       114\n",
      "\n",
      "avg / total       0.87      0.87      0.87       271\n",
      "\n"
     ]
    }
   ],
   "source": [
    "# Classifier 5 ANN\n",
    "from sklearn.neural_network import MLPClassifier\n",
    "\n",
    "model = OneVsRestClassifier(MLPClassifier(solver='lbfgs', alpha=1e-5,hidden_layer_sizes=(10), random_state=1))\n",
    "model.fit(X_train, y_train)\n",
    "print(\"Training Accuracy:{0:.2f}%\".format(100*model.score(X_train,y_train)))\n",
    "print(\"Test Accuracy:{0:.2f}%\".format(100*model.score(X_test,y_test)))\n",
    "target_names = ['class -1', 'class 0', 'class 1']\n",
    "print(classification_report(y_test, model.predict(X_test), target_names=target_names))"
   ]
  },
  {
   "cell_type": "code",
   "execution_count": 45,
   "metadata": {},
   "outputs": [
    {
     "name": "stdout",
     "output_type": "stream",
     "text": [
      "Training Accuracy:94.27%\n",
      "Test Accuracy:86.72%\n",
      "             precision    recall  f1-score   support\n",
      "\n",
      "   class -1       0.90      0.91      0.90       132\n",
      "    class 0       0.78      0.56      0.65        25\n",
      "    class 1       0.85      0.89      0.87       114\n",
      "\n",
      "avg / total       0.86      0.87      0.86       271\n",
      "\n"
     ]
    }
   ],
   "source": [
    "# Classifier 6 SVM\n",
    "from sklearn.svm import SVC\n",
    "\n",
    "\n",
    "model = OneVsRestClassifier(SVC(kernel='rbf',gamma=0.4))\n",
    "model.fit(X_train, y_train)\n",
    "print(\"Training Accuracy:{0:.2f}%\".format(100*model.score(X_train,y_train)))\n",
    "print(\"Test Accuracy:{0:.2f}%\".format(100*model.score(X_test,y_test)))\n",
    "target_names = ['class -1', 'class 0', 'class 1']\n",
    "print(classification_report(y_test, model.predict(X_test), target_names=target_names))\n",
    "\n"
   ]
  }
 ],
 "metadata": {
  "kernelspec": {
   "display_name": "Python 2",
   "language": "python",
   "name": "python2"
  },
  "language_info": {
   "codemirror_mode": {
    "name": "ipython",
    "version": 2
   },
   "file_extension": ".py",
   "mimetype": "text/x-python",
   "name": "python",
   "nbconvert_exporter": "python",
   "pygments_lexer": "ipython2",
   "version": "2.7.12"
  }
 },
 "nbformat": 4,
 "nbformat_minor": 2
}
